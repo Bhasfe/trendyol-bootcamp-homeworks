{
 "cells": [
  {
   "cell_type": "markdown",
   "metadata": {
    "papermill": {
     "duration": 0.017316,
     "end_time": "2020-12-16T19:50:45.534637",
     "exception": false,
     "start_time": "2020-12-16T19:50:45.517321",
     "status": "completed"
    },
    "tags": []
   },
   "source": [
    "**This notebook is an exercise in the [SQL](https://www.kaggle.com/learn/intro-to-sql) course.  You can reference the tutorial at [this link](https://www.kaggle.com/dansbecker/getting-started-with-sql-and-bigquery).**\n",
    "\n",
    "---\n"
   ]
  },
  {
   "cell_type": "markdown",
   "metadata": {
    "papermill": {
     "duration": 0.013471,
     "end_time": "2020-12-16T19:50:45.563533",
     "exception": false,
     "start_time": "2020-12-16T19:50:45.550062",
     "status": "completed"
    },
    "tags": []
   },
   "source": [
    "# Introduction\n",
    "\n",
    "The first test of your new data exploration skills uses data describing crime in the city of Chicago.\n",
    "\n",
    "Before you get started, run the following cell. It sets up the automated feedback system to review your answers."
   ]
  },
  {
   "cell_type": "code",
   "execution_count": 1,
   "metadata": {
    "execution": {
     "iopub.execute_input": "2020-12-16T19:50:45.595083Z",
     "iopub.status.busy": "2020-12-16T19:50:45.594053Z",
     "iopub.status.idle": "2020-12-16T19:50:46.355347Z",
     "shell.execute_reply": "2020-12-16T19:50:46.354425Z"
    },
    "papermill": {
     "duration": 0.778223,
     "end_time": "2020-12-16T19:50:46.355517",
     "exception": false,
     "start_time": "2020-12-16T19:50:45.577294",
     "status": "completed"
    },
    "tags": []
   },
   "outputs": [
    {
     "name": "stdout",
     "output_type": "stream",
     "text": [
      "Using Kaggle's public dataset BigQuery integration.\n",
      "Setup Complete\n"
     ]
    }
   ],
   "source": [
    "# Set up feedack system\n",
    "from learntools.core import binder\n",
    "binder.bind(globals())\n",
    "from learntools.sql.ex1 import *\n",
    "print(\"Setup Complete\")"
   ]
  },
  {
   "cell_type": "markdown",
   "metadata": {
    "papermill": {
     "duration": 0.0148,
     "end_time": "2020-12-16T19:50:46.386145",
     "exception": false,
     "start_time": "2020-12-16T19:50:46.371345",
     "status": "completed"
    },
    "tags": []
   },
   "source": [
    "Use the next code cell to fetch the dataset."
   ]
  },
  {
   "cell_type": "code",
   "execution_count": 2,
   "metadata": {
    "execution": {
     "iopub.execute_input": "2020-12-16T19:50:46.425873Z",
     "iopub.status.busy": "2020-12-16T19:50:46.425017Z",
     "iopub.status.idle": "2020-12-16T19:50:46.639329Z",
     "shell.execute_reply": "2020-12-16T19:50:46.639900Z"
    },
    "papermill": {
     "duration": 0.238848,
     "end_time": "2020-12-16T19:50:46.640064",
     "exception": false,
     "start_time": "2020-12-16T19:50:46.401216",
     "status": "completed"
    },
    "tags": []
   },
   "outputs": [
    {
     "name": "stdout",
     "output_type": "stream",
     "text": [
      "Using Kaggle's public dataset BigQuery integration.\n"
     ]
    }
   ],
   "source": [
    "from google.cloud import bigquery\n",
    "\n",
    "# Create a \"Client\" object\n",
    "client = bigquery.Client()\n",
    "\n",
    "# Construct a reference to the \"chicago_crime\" dataset\n",
    "dataset_ref = client.dataset(\"chicago_crime\", project=\"bigquery-public-data\")\n",
    "\n",
    "# API request - fetch the dataset\n",
    "dataset = client.get_dataset(dataset_ref)"
   ]
  },
  {
   "cell_type": "markdown",
   "metadata": {
    "papermill": {
     "duration": 0.015057,
     "end_time": "2020-12-16T19:50:46.670515",
     "exception": false,
     "start_time": "2020-12-16T19:50:46.655458",
     "status": "completed"
    },
    "tags": []
   },
   "source": [
    "# Exercises\n",
    "\n",
    "### 1) Count tables in the dataset\n",
    "\n",
    "How many tables are in the Chicago Crime dataset?"
   ]
  },
  {
   "cell_type": "code",
   "execution_count": 3,
   "metadata": {
    "execution": {
     "iopub.execute_input": "2020-12-16T19:50:46.705084Z",
     "iopub.status.busy": "2020-12-16T19:50:46.704347Z",
     "iopub.status.idle": "2020-12-16T19:50:46.893097Z",
     "shell.execute_reply": "2020-12-16T19:50:46.894758Z"
    },
    "papermill": {
     "duration": 0.208923,
     "end_time": "2020-12-16T19:50:46.894983",
     "exception": false,
     "start_time": "2020-12-16T19:50:46.686060",
     "status": "completed"
    },
    "tags": []
   },
   "outputs": [
    {
     "name": "stdout",
     "output_type": "stream",
     "text": [
      "crime\n",
      "Number of tables: 1\n"
     ]
    }
   ],
   "source": [
    "# Write the code you need here to figure out the answer\n",
    "\n",
    "tables = list(client.list_tables(dataset))\n",
    "\n",
    "for table in tables:\n",
    "    print(table.table_id)\n",
    "\n",
    "print(\"Number of tables:\",len(tables))"
   ]
  },
  {
   "cell_type": "code",
   "execution_count": 4,
   "metadata": {
    "execution": {
     "iopub.execute_input": "2020-12-16T19:50:46.932570Z",
     "iopub.status.busy": "2020-12-16T19:50:46.931829Z",
     "iopub.status.idle": "2020-12-16T19:50:46.939363Z",
     "shell.execute_reply": "2020-12-16T19:50:46.939942Z"
    },
    "papermill": {
     "duration": 0.026668,
     "end_time": "2020-12-16T19:50:46.940087",
     "exception": false,
     "start_time": "2020-12-16T19:50:46.913419",
     "status": "completed"
    },
    "tags": []
   },
   "outputs": [
    {
     "data": {
      "application/javascript": [
       "parent.postMessage({\"jupyterEvent\": \"custom.exercise_interaction\", \"data\": {\"outcomeType\": 1, \"valueTowardsCompletion\": 0.3333333333333333, \"interactionType\": 1, \"questionType\": 1, \"questionId\": \"1_CountTables\", \"learnToolsVersion\": \"0.3.4\", \"failureMessage\": \"\", \"exceptionClass\": \"\", \"trace\": \"\"}}, \"*\")"
      ],
      "text/plain": [
       "<IPython.core.display.Javascript object>"
      ]
     },
     "metadata": {},
     "output_type": "display_data"
    },
    {
     "data": {
      "text/markdown": [
       "<span style=\"color:#33cc33\">Correct</span>"
      ],
      "text/plain": [
       "Correct"
      ]
     },
     "metadata": {},
     "output_type": "display_data"
    }
   ],
   "source": [
    "num_tables = len(tables)  # Store the answer as num_tables and then run this cell\n",
    "\n",
    "# Check your answer\n",
    "q_1.check()"
   ]
  },
  {
   "cell_type": "markdown",
   "metadata": {
    "papermill": {
     "duration": 0.01629,
     "end_time": "2020-12-16T19:50:46.973164",
     "exception": false,
     "start_time": "2020-12-16T19:50:46.956874",
     "status": "completed"
    },
    "tags": []
   },
   "source": [
    "For a hint or the solution, uncomment the appropriate line below."
   ]
  },
  {
   "cell_type": "code",
   "execution_count": 5,
   "metadata": {
    "execution": {
     "iopub.execute_input": "2020-12-16T19:50:47.012190Z",
     "iopub.status.busy": "2020-12-16T19:50:47.011251Z",
     "iopub.status.idle": "2020-12-16T19:50:47.013777Z",
     "shell.execute_reply": "2020-12-16T19:50:47.014299Z"
    },
    "papermill": {
     "duration": 0.024211,
     "end_time": "2020-12-16T19:50:47.014444",
     "exception": false,
     "start_time": "2020-12-16T19:50:46.990233",
     "status": "completed"
    },
    "tags": []
   },
   "outputs": [],
   "source": [
    "#q_1.hint()\n",
    "#q_1.solution()"
   ]
  },
  {
   "cell_type": "markdown",
   "metadata": {
    "papermill": {
     "duration": 0.016609,
     "end_time": "2020-12-16T19:50:47.048128",
     "exception": false,
     "start_time": "2020-12-16T19:50:47.031519",
     "status": "completed"
    },
    "tags": []
   },
   "source": [
    "### 2) Explore the table schema\n",
    "\n",
    "How many columns in the `crime` table have `TIMESTAMP` data?"
   ]
  },
  {
   "cell_type": "code",
   "execution_count": 6,
   "metadata": {
    "execution": {
     "iopub.execute_input": "2020-12-16T19:50:47.086572Z",
     "iopub.status.busy": "2020-12-16T19:50:47.085924Z",
     "iopub.status.idle": "2020-12-16T19:50:47.318756Z",
     "shell.execute_reply": "2020-12-16T19:50:47.318035Z"
    },
    "papermill": {
     "duration": 0.253646,
     "end_time": "2020-12-16T19:50:47.318885",
     "exception": false,
     "start_time": "2020-12-16T19:50:47.065239",
     "status": "completed"
    },
    "tags": []
   },
   "outputs": [
    {
     "name": "stdout",
     "output_type": "stream",
     "text": [
      "Count: 2\n"
     ]
    }
   ],
   "source": [
    "# Write the code to figure out the answer\n",
    "table_ref = dataset_ref.table(\"crime\")\n",
    "\n",
    "table = client.get_table(table_ref)\n",
    "\n",
    "count = 0\n",
    "for column in table.schema:\n",
    "    if column.field_type == \"TIMESTAMP\":\n",
    "        count += 1\n",
    "        \n",
    "print(\"Count:\",count)"
   ]
  },
  {
   "cell_type": "code",
   "execution_count": 7,
   "metadata": {
    "execution": {
     "iopub.execute_input": "2020-12-16T19:50:47.361648Z",
     "iopub.status.busy": "2020-12-16T19:50:47.360790Z",
     "iopub.status.idle": "2020-12-16T19:50:47.367754Z",
     "shell.execute_reply": "2020-12-16T19:50:47.367064Z"
    },
    "papermill": {
     "duration": 0.030752,
     "end_time": "2020-12-16T19:50:47.367872",
     "exception": false,
     "start_time": "2020-12-16T19:50:47.337120",
     "status": "completed"
    },
    "tags": []
   },
   "outputs": [
    {
     "data": {
      "application/javascript": [
       "parent.postMessage({\"jupyterEvent\": \"custom.exercise_interaction\", \"data\": {\"outcomeType\": 1, \"valueTowardsCompletion\": 0.3333333333333333, \"interactionType\": 1, \"questionType\": 1, \"questionId\": \"2_CountTimestampFields\", \"learnToolsVersion\": \"0.3.4\", \"failureMessage\": \"\", \"exceptionClass\": \"\", \"trace\": \"\"}}, \"*\")"
      ],
      "text/plain": [
       "<IPython.core.display.Javascript object>"
      ]
     },
     "metadata": {},
     "output_type": "display_data"
    },
    {
     "data": {
      "text/markdown": [
       "<span style=\"color:#33cc33\">Correct</span>"
      ],
      "text/plain": [
       "Correct"
      ]
     },
     "metadata": {},
     "output_type": "display_data"
    }
   ],
   "source": [
    "num_timestamp_fields = count # Put your answer here\n",
    "\n",
    "# Check your answer\n",
    "q_2.check()"
   ]
  },
  {
   "cell_type": "markdown",
   "metadata": {
    "papermill": {
     "duration": 0.018737,
     "end_time": "2020-12-16T19:50:47.405512",
     "exception": false,
     "start_time": "2020-12-16T19:50:47.386775",
     "status": "completed"
    },
    "tags": []
   },
   "source": [
    "For a hint or the solution, uncomment the appropriate line below."
   ]
  },
  {
   "cell_type": "code",
   "execution_count": 8,
   "metadata": {
    "execution": {
     "iopub.execute_input": "2020-12-16T19:50:47.449432Z",
     "iopub.status.busy": "2020-12-16T19:50:47.448734Z",
     "iopub.status.idle": "2020-12-16T19:50:47.452214Z",
     "shell.execute_reply": "2020-12-16T19:50:47.451595Z"
    },
    "papermill": {
     "duration": 0.027168,
     "end_time": "2020-12-16T19:50:47.452331",
     "exception": false,
     "start_time": "2020-12-16T19:50:47.425163",
     "status": "completed"
    },
    "tags": []
   },
   "outputs": [],
   "source": [
    "#q_2.hint()\n",
    "#q_2.solution()"
   ]
  },
  {
   "cell_type": "markdown",
   "metadata": {
    "papermill": {
     "duration": 0.018685,
     "end_time": "2020-12-16T19:50:47.490216",
     "exception": false,
     "start_time": "2020-12-16T19:50:47.471531",
     "status": "completed"
    },
    "tags": []
   },
   "source": [
    "### 3) Create a crime map\n",
    "\n",
    "If you wanted to create a map with a dot at the location of each crime, what are the names of the two fields you likely need to pull out of the `crime` table to plot the crimes on a map?"
   ]
  },
  {
   "cell_type": "code",
   "execution_count": 9,
   "metadata": {
    "execution": {
     "iopub.execute_input": "2020-12-16T19:50:47.535462Z",
     "iopub.status.busy": "2020-12-16T19:50:47.534734Z",
     "iopub.status.idle": "2020-12-16T19:50:47.544330Z",
     "shell.execute_reply": "2020-12-16T19:50:47.543410Z"
    },
    "papermill": {
     "duration": 0.034908,
     "end_time": "2020-12-16T19:50:47.544529",
     "exception": false,
     "start_time": "2020-12-16T19:50:47.509621",
     "status": "completed"
    },
    "tags": []
   },
   "outputs": [
    {
     "name": "stdout",
     "output_type": "stream",
     "text": [
      "unique_key Unique identifier for the record.\n",
      "case_number The Chicago Police Department RD Number (Records Division Number), which is unique to the incident.\n",
      "date Date when the incident occurred. this is sometimes a best estimate.\n",
      "block The partially redacted address where the incident occurred, placing it on the same block as the actual address.\n",
      "iucr The Illinois Unifrom Crime Reporting code. This is directly linked to the Primary Type and Description. See the list of IUCR codes at https://data.cityofchicago.org/d/c7ck-438e.\n",
      "primary_type The primary description of the IUCR code.\n",
      "description The secondary description of the IUCR code, a subcategory of the primary description.\n",
      "location_description Description of the location where the incident occurred.\n",
      "arrest Indicates whether an arrest was made.\n",
      "domestic Indicates whether the incident was domestic-related as defined by the Illinois Domestic Violence Act.\n",
      "beat Indicates the beat where the incident occurred. A beat is the smallest police geographic area – each beat has a dedicated police beat car. Three to five beats make up a police sector, and three sectors make up a police district. The Chicago Police Department has 22 police districts. See the beats at https://data.cityofchicago.org/d/aerh-rz74.\n",
      "district Indicates the police district where the incident occurred. See the districts at https://data.cityofchicago.org/d/fthy-xz3r.\n",
      "ward The ward (City Council district) where the incident occurred. See the wards at https://data.cityofchicago.org/d/sp34-6z76.\n",
      "community_area Indicates the community area where the incident occurred. Chicago has 77 community areas. See the community areas at https://data.cityofchicago.org/d/cauq-8yn6.\n",
      "fbi_code Indicates the crime classification as outlined in the FBI's National Incident-Based Reporting System (NIBRS). See the Chicago Police Department listing of these classifications at http://gis.chicagopolice.org/clearmap_crime_sums/crime_types.html.\n",
      "x_coordinate The x coordinate of the location where the incident occurred in State Plane Illinois East NAD 1983 projection. This location is shifted from the actual location for partial redaction but falls on the same block.\n",
      "y_coordinate The y coordinate of the location where the incident occurred in State Plane Illinois East NAD 1983 projection. This location is shifted from the actual location for partial redaction but falls on the same block.\n",
      "year Year the incident occurred.\n",
      "updated_on Date and time the record was last updated.\n",
      "latitude The latitude of the location where the incident occurred. This location is shifted from the actual location for partial redaction but falls on the same block.\n",
      "longitude The longitude of the location where the incident occurred. This location is shifted from the actual location for partial redaction but falls on the same block.\n",
      "location The location where the incident occurred in a format that allows for creation of maps and other geographic operations on this data portal. This location is shifted from the actual location for partial redaction but falls on the same block.\n"
     ]
    }
   ],
   "source": [
    "# Write the code here to explore the data so you can find the answer\n",
    "\n",
    "for column in table.schema:\n",
    "    print(column.name,column.description)"
   ]
  },
  {
   "cell_type": "code",
   "execution_count": 10,
   "metadata": {
    "execution": {
     "iopub.execute_input": "2020-12-16T19:50:47.591363Z",
     "iopub.status.busy": "2020-12-16T19:50:47.590408Z",
     "iopub.status.idle": "2020-12-16T19:50:47.597677Z",
     "shell.execute_reply": "2020-12-16T19:50:47.597001Z"
    },
    "papermill": {
     "duration": 0.032307,
     "end_time": "2020-12-16T19:50:47.597828",
     "exception": false,
     "start_time": "2020-12-16T19:50:47.565521",
     "status": "completed"
    },
    "tags": []
   },
   "outputs": [
    {
     "name": "stdout",
     "output_type": "stream",
     "text": [
      "`'latitude'` and `'longitude'` would be better and more standard than `'x_coordinate'` and `'y_coordinate'`, but this might work.\n"
     ]
    },
    {
     "data": {
      "application/javascript": [
       "parent.postMessage({\"jupyterEvent\": \"custom.exercise_interaction\", \"data\": {\"outcomeType\": 1, \"valueTowardsCompletion\": 0.3333333333333333, \"interactionType\": 1, \"questionType\": 2, \"questionId\": \"3_IdentifyFieldsForPlotting\", \"learnToolsVersion\": \"0.3.4\", \"failureMessage\": \"\", \"exceptionClass\": \"\", \"trace\": \"\"}}, \"*\")"
      ],
      "text/plain": [
       "<IPython.core.display.Javascript object>"
      ]
     },
     "metadata": {},
     "output_type": "display_data"
    },
    {
     "data": {
      "text/markdown": [
       "<span style=\"color:#33cc33\">Correct</span>"
      ],
      "text/plain": [
       "Correct"
      ]
     },
     "metadata": {},
     "output_type": "display_data"
    }
   ],
   "source": [
    "fields_for_plotting = [\"x_coordinate\", \"y_coordinate\"] # Put your answers here\n",
    "\n",
    "# Check your answer\n",
    "q_3.check()"
   ]
  },
  {
   "cell_type": "markdown",
   "metadata": {
    "papermill": {
     "duration": 0.020792,
     "end_time": "2020-12-16T19:50:47.639984",
     "exception": false,
     "start_time": "2020-12-16T19:50:47.619192",
     "status": "completed"
    },
    "tags": []
   },
   "source": [
    "For a hint or the solution, uncomment the appropriate line below."
   ]
  },
  {
   "cell_type": "code",
   "execution_count": 11,
   "metadata": {
    "execution": {
     "iopub.execute_input": "2020-12-16T19:50:47.688044Z",
     "iopub.status.busy": "2020-12-16T19:50:47.687243Z",
     "iopub.status.idle": "2020-12-16T19:50:47.690551Z",
     "shell.execute_reply": "2020-12-16T19:50:47.690046Z"
    },
    "papermill": {
     "duration": 0.029008,
     "end_time": "2020-12-16T19:50:47.690666",
     "exception": false,
     "start_time": "2020-12-16T19:50:47.661658",
     "status": "completed"
    },
    "tags": []
   },
   "outputs": [],
   "source": [
    "#q_3.hint()\n",
    "#q_3.solution()"
   ]
  },
  {
   "cell_type": "markdown",
   "metadata": {
    "papermill": {
     "duration": 0.024009,
     "end_time": "2020-12-16T19:50:47.736679",
     "exception": false,
     "start_time": "2020-12-16T19:50:47.712670",
     "status": "completed"
    },
    "tags": []
   },
   "source": [
    "Thinking about the question above, there are a few columns that appear to have geographic data. Look at a few values (with the `list_rows()` command) to see if you can determine their relationship.  Two columns will still be hard to interpret. But it should be obvious how the `location` column relates to `latitude` and `longitude`."
   ]
  },
  {
   "cell_type": "code",
   "execution_count": 12,
   "metadata": {
    "execution": {
     "iopub.execute_input": "2020-12-16T19:50:47.785538Z",
     "iopub.status.busy": "2020-12-16T19:50:47.784738Z",
     "iopub.status.idle": "2020-12-16T19:50:47.788147Z",
     "shell.execute_reply": "2020-12-16T19:50:47.787500Z"
    },
    "papermill": {
     "duration": 0.02988,
     "end_time": "2020-12-16T19:50:47.788362",
     "exception": false,
     "start_time": "2020-12-16T19:50:47.758482",
     "status": "completed"
    },
    "tags": []
   },
   "outputs": [],
   "source": [
    "# Scratch space for your code"
   ]
  },
  {
   "cell_type": "markdown",
   "metadata": {
    "papermill": {
     "duration": 0.021822,
     "end_time": "2020-12-16T19:50:47.831929",
     "exception": false,
     "start_time": "2020-12-16T19:50:47.810107",
     "status": "completed"
    },
    "tags": []
   },
   "source": [
    "# Keep going\n",
    "\n",
    "You've looked at the schema, but you haven't yet done anything exciting with the data itself. Things get more interesting when you get to the data, so keep going to **[write your first SQL query](https://www.kaggle.com/dansbecker/select-from-where).**"
   ]
  },
  {
   "cell_type": "markdown",
   "metadata": {
    "papermill": {
     "duration": 0.021641,
     "end_time": "2020-12-16T19:50:47.875100",
     "exception": false,
     "start_time": "2020-12-16T19:50:47.853459",
     "status": "completed"
    },
    "tags": []
   },
   "source": [
    "---\n",
    "\n",
    "\n",
    "\n",
    "\n",
    "*Have questions or comments? Visit the [Learn Discussion forum](https://www.kaggle.com/learn-forum/161314) to chat with other Learners.*"
   ]
  }
 ],
 "metadata": {
  "kernelspec": {
   "display_name": "Python 3",
   "language": "python",
   "name": "python3"
  },
  "language_info": {
   "codemirror_mode": {
    "name": "ipython",
    "version": 3
   },
   "file_extension": ".py",
   "mimetype": "text/x-python",
   "name": "python",
   "nbconvert_exporter": "python",
   "pygments_lexer": "ipython3",
   "version": "3.7.6"
  },
  "papermill": {
   "duration": 7.745098,
   "end_time": "2020-12-16T19:50:48.007201",
   "environment_variables": {},
   "exception": null,
   "input_path": "__notebook__.ipynb",
   "output_path": "__notebook__.ipynb",
   "parameters": {},
   "start_time": "2020-12-16T19:50:40.262103",
   "version": "2.1.0"
  }
 },
 "nbformat": 4,
 "nbformat_minor": 4
}
