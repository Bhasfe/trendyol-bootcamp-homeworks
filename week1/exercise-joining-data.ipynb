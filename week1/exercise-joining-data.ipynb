{
 "cells": [
  {
   "cell_type": "markdown",
   "metadata": {
    "papermill": {
     "duration": 0.020204,
     "end_time": "2020-12-17T11:41:55.254603",
     "exception": false,
     "start_time": "2020-12-17T11:41:55.234399",
     "status": "completed"
    },
    "tags": []
   },
   "source": [
    "**This notebook is an exercise in the [SQL](https://www.kaggle.com/learn/intro-to-sql) course.  You can reference the tutorial at [this link](https://www.kaggle.com/dansbecker/joining-data).**\n",
    "\n",
    "---\n"
   ]
  },
  {
   "cell_type": "markdown",
   "metadata": {
    "papermill": {
     "duration": 0.020487,
     "end_time": "2020-12-17T11:41:55.293893",
     "exception": false,
     "start_time": "2020-12-17T11:41:55.273406",
     "status": "completed"
    },
    "tags": []
   },
   "source": [
    "# Introduction\n",
    "\n",
    "[Stack Overflow](https://stackoverflow.com/) is a widely beloved question and answer site for technical questions. You'll probably use it yourself as you keep using SQL (or any programming language). \n",
    "\n",
    "Their data is publicly available. What cool things do you think it would be useful for?\n",
    "\n",
    "Here's one idea:\n",
    "You could set up a service that identifies the Stack Overflow users who have demonstrated expertise with a specific technology by answering related questions about it, so someone could hire those experts for in-depth help.\n",
    "\n",
    "In this exercise, you'll write the SQL queries that might serve as the foundation for this type of service.\n",
    "\n",
    "As usual, run the following cell to set up our feedback system before moving on."
   ]
  },
  {
   "cell_type": "code",
   "execution_count": 1,
   "metadata": {
    "execution": {
     "iopub.execute_input": "2020-12-17T11:41:55.338372Z",
     "iopub.status.busy": "2020-12-17T11:41:55.337610Z",
     "iopub.status.idle": "2020-12-17T11:42:11.638992Z",
     "shell.execute_reply": "2020-12-17T11:42:11.639776Z"
    },
    "papermill": {
     "duration": 16.326002,
     "end_time": "2020-12-17T11:42:11.640016",
     "exception": false,
     "start_time": "2020-12-17T11:41:55.314014",
     "status": "completed"
    },
    "tags": []
   },
   "outputs": [
    {
     "name": "stdout",
     "output_type": "stream",
     "text": [
      "Using Kaggle's public dataset BigQuery integration.\n",
      "Setup Complete\n"
     ]
    }
   ],
   "source": [
    "# Set up feedback system\n",
    "from learntools.core import binder\n",
    "binder.bind(globals())\n",
    "from learntools.sql.ex6 import *\n",
    "print(\"Setup Complete\")"
   ]
  },
  {
   "cell_type": "markdown",
   "metadata": {
    "papermill": {
     "duration": 0.018655,
     "end_time": "2020-12-17T11:42:11.679477",
     "exception": false,
     "start_time": "2020-12-17T11:42:11.660822",
     "status": "completed"
    },
    "tags": []
   },
   "source": [
    "Run the next cell to fetch the `stackoverflow` dataset."
   ]
  },
  {
   "cell_type": "code",
   "execution_count": 2,
   "metadata": {
    "execution": {
     "iopub.execute_input": "2020-12-17T11:42:11.728582Z",
     "iopub.status.busy": "2020-12-17T11:42:11.727745Z",
     "iopub.status.idle": "2020-12-17T11:42:13.054862Z",
     "shell.execute_reply": "2020-12-17T11:42:13.056225Z"
    },
    "papermill": {
     "duration": 1.358011,
     "end_time": "2020-12-17T11:42:13.056593",
     "exception": false,
     "start_time": "2020-12-17T11:42:11.698582",
     "status": "completed"
    },
    "tags": []
   },
   "outputs": [
    {
     "name": "stdout",
     "output_type": "stream",
     "text": [
      "Using Kaggle's public dataset BigQuery integration.\n"
     ]
    }
   ],
   "source": [
    "from google.cloud import bigquery\n",
    "\n",
    "# Create a \"Client\" object\n",
    "client = bigquery.Client()\n",
    "\n",
    "# Construct a reference to the \"stackoverflow\" dataset\n",
    "dataset_ref = client.dataset(\"stackoverflow\", project=\"bigquery-public-data\")\n",
    "\n",
    "# API request - fetch the dataset\n",
    "dataset = client.get_dataset(dataset_ref)"
   ]
  },
  {
   "cell_type": "markdown",
   "metadata": {
    "papermill": {
     "duration": 0.019201,
     "end_time": "2020-12-17T11:42:13.112304",
     "exception": false,
     "start_time": "2020-12-17T11:42:13.093103",
     "status": "completed"
    },
    "tags": []
   },
   "source": [
    "# Exercises\n",
    "\n",
    "### 1) Explore the data\n",
    "\n",
    "Before writing queries or **JOIN** clauses, you'll want to see what tables are available. \n",
    "\n",
    "*Hint*: Tab completion is helpful whenever you can't remember a command. Type `client.` and then hit the tab key. Don't forget the period before hitting tab."
   ]
  },
  {
   "cell_type": "code",
   "execution_count": 3,
   "metadata": {
    "execution": {
     "iopub.execute_input": "2020-12-17T11:42:13.158317Z",
     "iopub.status.busy": "2020-12-17T11:42:13.157621Z",
     "iopub.status.idle": "2020-12-17T11:42:13.514692Z",
     "shell.execute_reply": "2020-12-17T11:42:13.513839Z"
    },
    "papermill": {
     "duration": 0.3832,
     "end_time": "2020-12-17T11:42:13.514857",
     "exception": false,
     "start_time": "2020-12-17T11:42:13.131657",
     "status": "completed"
    },
    "tags": []
   },
   "outputs": [
    {
     "name": "stdout",
     "output_type": "stream",
     "text": [
      "['badges', 'comments', 'post_history', 'post_links', 'posts_answers', 'posts_moderator_nomination', 'posts_orphaned_tag_wiki', 'posts_privilege_wiki', 'posts_questions', 'posts_tag_wiki', 'posts_tag_wiki_excerpt', 'posts_wiki_placeholder', 'stackoverflow_posts', 'tags', 'users', 'votes']\n"
     ]
    },
    {
     "data": {
      "application/javascript": [
       "parent.postMessage({\"jupyterEvent\": \"custom.exercise_interaction\", \"data\": {\"outcomeType\": 1, \"valueTowardsCompletion\": 0.16666666666666666, \"interactionType\": 1, \"questionType\": 1, \"questionId\": \"1_ListSOTables\", \"learnToolsVersion\": \"0.3.4\", \"failureMessage\": \"\", \"exceptionClass\": \"\", \"trace\": \"\"}}, \"*\")"
      ],
      "text/plain": [
       "<IPython.core.display.Javascript object>"
      ]
     },
     "metadata": {},
     "output_type": "display_data"
    },
    {
     "data": {
      "text/markdown": [
       "<span style=\"color:#33cc33\">Correct</span>"
      ],
      "text/plain": [
       "Correct"
      ]
     },
     "metadata": {},
     "output_type": "display_data"
    }
   ],
   "source": [
    "# Get a list of available tables \n",
    "list_of_tables = [table.table_id for table in list(client.list_tables(dataset))] # Your code here\n",
    "\n",
    "# Print your answer\n",
    "print(list_of_tables)\n",
    "\n",
    "# Check your answer\n",
    "q_1.check()"
   ]
  },
  {
   "cell_type": "markdown",
   "metadata": {
    "papermill": {
     "duration": 0.020782,
     "end_time": "2020-12-17T11:42:13.557830",
     "exception": false,
     "start_time": "2020-12-17T11:42:13.537048",
     "status": "completed"
    },
    "tags": []
   },
   "source": [
    "For the solution, uncomment the line below."
   ]
  },
  {
   "cell_type": "code",
   "execution_count": 4,
   "metadata": {
    "execution": {
     "iopub.execute_input": "2020-12-17T11:42:13.606129Z",
     "iopub.status.busy": "2020-12-17T11:42:13.605385Z",
     "iopub.status.idle": "2020-12-17T11:42:13.607912Z",
     "shell.execute_reply": "2020-12-17T11:42:13.608423Z"
    },
    "papermill": {
     "duration": 0.029471,
     "end_time": "2020-12-17T11:42:13.608617",
     "exception": false,
     "start_time": "2020-12-17T11:42:13.579146",
     "status": "completed"
    },
    "tags": []
   },
   "outputs": [],
   "source": [
    "#q_1.solution()"
   ]
  },
  {
   "cell_type": "markdown",
   "metadata": {
    "papermill": {
     "duration": 0.022487,
     "end_time": "2020-12-17T11:42:13.653552",
     "exception": false,
     "start_time": "2020-12-17T11:42:13.631065",
     "status": "completed"
    },
    "tags": []
   },
   "source": [
    "### 2) Review relevant tables\n",
    "\n",
    "If you are interested in people who answer questions on a given topic, the `posts_answers` table is a natural place to look. Run the following cell, and look at the output."
   ]
  },
  {
   "cell_type": "code",
   "execution_count": 5,
   "metadata": {
    "execution": {
     "iopub.execute_input": "2020-12-17T11:42:13.702717Z",
     "iopub.status.busy": "2020-12-17T11:42:13.701783Z",
     "iopub.status.idle": "2020-12-17T11:42:15.462713Z",
     "shell.execute_reply": "2020-12-17T11:42:15.463216Z"
    },
    "papermill": {
     "duration": 1.787454,
     "end_time": "2020-12-17T11:42:15.463391",
     "exception": false,
     "start_time": "2020-12-17T11:42:13.675937",
     "status": "completed"
    },
    "tags": []
   },
   "outputs": [
    {
     "data": {
      "text/html": [
       "<div>\n",
       "<style scoped>\n",
       "    .dataframe tbody tr th:only-of-type {\n",
       "        vertical-align: middle;\n",
       "    }\n",
       "\n",
       "    .dataframe tbody tr th {\n",
       "        vertical-align: top;\n",
       "    }\n",
       "\n",
       "    .dataframe thead th {\n",
       "        text-align: right;\n",
       "    }\n",
       "</style>\n",
       "<table border=\"1\" class=\"dataframe\">\n",
       "  <thead>\n",
       "    <tr style=\"text-align: right;\">\n",
       "      <th></th>\n",
       "      <th>id</th>\n",
       "      <th>title</th>\n",
       "      <th>body</th>\n",
       "      <th>accepted_answer_id</th>\n",
       "      <th>answer_count</th>\n",
       "      <th>comment_count</th>\n",
       "      <th>community_owned_date</th>\n",
       "      <th>creation_date</th>\n",
       "      <th>favorite_count</th>\n",
       "      <th>last_activity_date</th>\n",
       "      <th>last_edit_date</th>\n",
       "      <th>last_editor_display_name</th>\n",
       "      <th>last_editor_user_id</th>\n",
       "      <th>owner_display_name</th>\n",
       "      <th>owner_user_id</th>\n",
       "      <th>parent_id</th>\n",
       "      <th>post_type_id</th>\n",
       "      <th>score</th>\n",
       "      <th>tags</th>\n",
       "      <th>view_count</th>\n",
       "    </tr>\n",
       "  </thead>\n",
       "  <tbody>\n",
       "    <tr>\n",
       "      <th>0</th>\n",
       "      <td>14572177</td>\n",
       "      <td>None</td>\n",
       "      <td>&lt;p&gt;If you want to get All destop items you wil...</td>\n",
       "      <td>None</td>\n",
       "      <td>None</td>\n",
       "      <td>0</td>\n",
       "      <td>None</td>\n",
       "      <td>2013-01-28 22:11:00.227000+00:00</td>\n",
       "      <td>None</td>\n",
       "      <td>2013-01-28 22:11:00.227000+00:00</td>\n",
       "      <td>NaT</td>\n",
       "      <td>None</td>\n",
       "      <td>NaN</td>\n",
       "      <td>None</td>\n",
       "      <td>1849109</td>\n",
       "      <td>14572041</td>\n",
       "      <td>2</td>\n",
       "      <td>0</td>\n",
       "      <td>None</td>\n",
       "      <td>None</td>\n",
       "    </tr>\n",
       "    <tr>\n",
       "      <th>1</th>\n",
       "      <td>14572191</td>\n",
       "      <td>None</td>\n",
       "      <td>&lt;p&gt;Look at this function it will work, I've co...</td>\n",
       "      <td>None</td>\n",
       "      <td>None</td>\n",
       "      <td>0</td>\n",
       "      <td>None</td>\n",
       "      <td>2013-01-28 22:12:33.897000+00:00</td>\n",
       "      <td>None</td>\n",
       "      <td>2013-01-28 22:23:02.473000+00:00</td>\n",
       "      <td>2013-01-28 22:23:02.473000+00:00</td>\n",
       "      <td>None</td>\n",
       "      <td>573032.0</td>\n",
       "      <td>None</td>\n",
       "      <td>573032</td>\n",
       "      <td>14557984</td>\n",
       "      <td>2</td>\n",
       "      <td>0</td>\n",
       "      <td>None</td>\n",
       "      <td>None</td>\n",
       "    </tr>\n",
       "    <tr>\n",
       "      <th>2</th>\n",
       "      <td>14572199</td>\n",
       "      <td>None</td>\n",
       "      <td>&lt;p&gt;Do you need to update the UI often or not?&lt;...</td>\n",
       "      <td>None</td>\n",
       "      <td>None</td>\n",
       "      <td>0</td>\n",
       "      <td>None</td>\n",
       "      <td>2013-01-28 22:12:49.057000+00:00</td>\n",
       "      <td>None</td>\n",
       "      <td>2013-01-28 22:12:49.057000+00:00</td>\n",
       "      <td>NaT</td>\n",
       "      <td>None</td>\n",
       "      <td>NaN</td>\n",
       "      <td>None</td>\n",
       "      <td>1416035</td>\n",
       "      <td>14572118</td>\n",
       "      <td>2</td>\n",
       "      <td>0</td>\n",
       "      <td>None</td>\n",
       "      <td>None</td>\n",
       "    </tr>\n",
       "    <tr>\n",
       "      <th>3</th>\n",
       "      <td>14572208</td>\n",
       "      <td>None</td>\n",
       "      <td>&lt;p&gt;Look into using a Repeater or DataList cont...</td>\n",
       "      <td>None</td>\n",
       "      <td>None</td>\n",
       "      <td>0</td>\n",
       "      <td>None</td>\n",
       "      <td>2013-01-28 22:13:14.830000+00:00</td>\n",
       "      <td>None</td>\n",
       "      <td>2013-01-28 22:13:14.830000+00:00</td>\n",
       "      <td>NaT</td>\n",
       "      <td>None</td>\n",
       "      <td>NaN</td>\n",
       "      <td>None</td>\n",
       "      <td>358015</td>\n",
       "      <td>14572103</td>\n",
       "      <td>2</td>\n",
       "      <td>0</td>\n",
       "      <td>None</td>\n",
       "      <td>None</td>\n",
       "    </tr>\n",
       "    <tr>\n",
       "      <th>4</th>\n",
       "      <td>14572217</td>\n",
       "      <td>None</td>\n",
       "      <td>&lt;p&gt;There are some methods:&lt;/p&gt;\\n\\n&lt;ol&gt;\\n&lt;li&gt;Di...</td>\n",
       "      <td>None</td>\n",
       "      <td>None</td>\n",
       "      <td>0</td>\n",
       "      <td>None</td>\n",
       "      <td>2013-01-28 22:14:41.693000+00:00</td>\n",
       "      <td>None</td>\n",
       "      <td>2013-01-28 22:14:41.693000+00:00</td>\n",
       "      <td>NaT</td>\n",
       "      <td>None</td>\n",
       "      <td>NaN</td>\n",
       "      <td>None</td>\n",
       "      <td>448089</td>\n",
       "      <td>14572089</td>\n",
       "      <td>2</td>\n",
       "      <td>0</td>\n",
       "      <td>None</td>\n",
       "      <td>None</td>\n",
       "    </tr>\n",
       "  </tbody>\n",
       "</table>\n",
       "</div>"
      ],
      "text/plain": [
       "         id title                                               body  \\\n",
       "0  14572177  None  <p>If you want to get All destop items you wil...   \n",
       "1  14572191  None  <p>Look at this function it will work, I've co...   \n",
       "2  14572199  None  <p>Do you need to update the UI often or not?<...   \n",
       "3  14572208  None  <p>Look into using a Repeater or DataList cont...   \n",
       "4  14572217  None  <p>There are some methods:</p>\\n\\n<ol>\\n<li>Di...   \n",
       "\n",
       "  accepted_answer_id answer_count  comment_count community_owned_date  \\\n",
       "0               None         None              0                 None   \n",
       "1               None         None              0                 None   \n",
       "2               None         None              0                 None   \n",
       "3               None         None              0                 None   \n",
       "4               None         None              0                 None   \n",
       "\n",
       "                     creation_date favorite_count  \\\n",
       "0 2013-01-28 22:11:00.227000+00:00           None   \n",
       "1 2013-01-28 22:12:33.897000+00:00           None   \n",
       "2 2013-01-28 22:12:49.057000+00:00           None   \n",
       "3 2013-01-28 22:13:14.830000+00:00           None   \n",
       "4 2013-01-28 22:14:41.693000+00:00           None   \n",
       "\n",
       "                last_activity_date                   last_edit_date  \\\n",
       "0 2013-01-28 22:11:00.227000+00:00                              NaT   \n",
       "1 2013-01-28 22:23:02.473000+00:00 2013-01-28 22:23:02.473000+00:00   \n",
       "2 2013-01-28 22:12:49.057000+00:00                              NaT   \n",
       "3 2013-01-28 22:13:14.830000+00:00                              NaT   \n",
       "4 2013-01-28 22:14:41.693000+00:00                              NaT   \n",
       "\n",
       "  last_editor_display_name  last_editor_user_id owner_display_name  \\\n",
       "0                     None                  NaN               None   \n",
       "1                     None             573032.0               None   \n",
       "2                     None                  NaN               None   \n",
       "3                     None                  NaN               None   \n",
       "4                     None                  NaN               None   \n",
       "\n",
       "   owner_user_id  parent_id  post_type_id  score  tags view_count  \n",
       "0        1849109   14572041             2      0  None       None  \n",
       "1         573032   14557984             2      0  None       None  \n",
       "2        1416035   14572118             2      0  None       None  \n",
       "3         358015   14572103             2      0  None       None  \n",
       "4         448089   14572089             2      0  None       None  "
      ]
     },
     "execution_count": 5,
     "metadata": {},
     "output_type": "execute_result"
    }
   ],
   "source": [
    "# Construct a reference to the \"posts_answers\" table\n",
    "answers_table_ref = dataset_ref.table(\"posts_answers\")\n",
    "\n",
    "# API request - fetch the table\n",
    "answers_table = client.get_table(answers_table_ref)\n",
    "\n",
    "# Preview the first five lines of the \"posts_answers\" table\n",
    "client.list_rows(answers_table, max_results=5).to_dataframe()"
   ]
  },
  {
   "cell_type": "markdown",
   "metadata": {
    "papermill": {
     "duration": 0.021238,
     "end_time": "2020-12-17T11:42:15.506141",
     "exception": false,
     "start_time": "2020-12-17T11:42:15.484903",
     "status": "completed"
    },
    "tags": []
   },
   "source": [
    "It isn't clear yet how to find users who answered questions on any given topic. But `posts_answers` has a `parent_id` column. If you are familiar with the Stack Overflow site, you might figure out that the `parent_id` is the question each post is answering.\n",
    "\n",
    "Look at `posts_questions` using the cell below."
   ]
  },
  {
   "cell_type": "code",
   "execution_count": 6,
   "metadata": {
    "execution": {
     "iopub.execute_input": "2020-12-17T11:42:15.558280Z",
     "iopub.status.busy": "2020-12-17T11:42:15.557513Z",
     "iopub.status.idle": "2020-12-17T11:42:16.582829Z",
     "shell.execute_reply": "2020-12-17T11:42:16.583381Z"
    },
    "papermill": {
     "duration": 1.055823,
     "end_time": "2020-12-17T11:42:16.583547",
     "exception": false,
     "start_time": "2020-12-17T11:42:15.527724",
     "status": "completed"
    },
    "tags": []
   },
   "outputs": [
    {
     "data": {
      "text/html": [
       "<div>\n",
       "<style scoped>\n",
       "    .dataframe tbody tr th:only-of-type {\n",
       "        vertical-align: middle;\n",
       "    }\n",
       "\n",
       "    .dataframe tbody tr th {\n",
       "        vertical-align: top;\n",
       "    }\n",
       "\n",
       "    .dataframe thead th {\n",
       "        text-align: right;\n",
       "    }\n",
       "</style>\n",
       "<table border=\"1\" class=\"dataframe\">\n",
       "  <thead>\n",
       "    <tr style=\"text-align: right;\">\n",
       "      <th></th>\n",
       "      <th>id</th>\n",
       "      <th>title</th>\n",
       "      <th>body</th>\n",
       "      <th>accepted_answer_id</th>\n",
       "      <th>answer_count</th>\n",
       "      <th>comment_count</th>\n",
       "      <th>community_owned_date</th>\n",
       "      <th>creation_date</th>\n",
       "      <th>favorite_count</th>\n",
       "      <th>last_activity_date</th>\n",
       "      <th>last_edit_date</th>\n",
       "      <th>last_editor_display_name</th>\n",
       "      <th>last_editor_user_id</th>\n",
       "      <th>owner_display_name</th>\n",
       "      <th>owner_user_id</th>\n",
       "      <th>parent_id</th>\n",
       "      <th>post_type_id</th>\n",
       "      <th>score</th>\n",
       "      <th>tags</th>\n",
       "      <th>view_count</th>\n",
       "    </tr>\n",
       "  </thead>\n",
       "  <tbody>\n",
       "    <tr>\n",
       "      <th>0</th>\n",
       "      <td>33347728</td>\n",
       "      <td>Symfony2 Assetic - how to set different direct...</td>\n",
       "      <td>&lt;p&gt;I'm using assetic for compiling &lt;code&gt;.less...</td>\n",
       "      <td>33349111.0</td>\n",
       "      <td>1</td>\n",
       "      <td>0</td>\n",
       "      <td>None</td>\n",
       "      <td>2015-10-26 14:04:13.080000+00:00</td>\n",
       "      <td>None</td>\n",
       "      <td>2015-10-27 08:46:06.270000+00:00</td>\n",
       "      <td>NaT</td>\n",
       "      <td>None</td>\n",
       "      <td>NaN</td>\n",
       "      <td>None</td>\n",
       "      <td>845978</td>\n",
       "      <td>None</td>\n",
       "      <td>1</td>\n",
       "      <td>2</td>\n",
       "      <td>symfony|assetic</td>\n",
       "      <td>256</td>\n",
       "    </tr>\n",
       "    <tr>\n",
       "      <th>1</th>\n",
       "      <td>33351110</td>\n",
       "      <td>Full example of container deployment with fabr...</td>\n",
       "      <td>&lt;p&gt;I am looking for a complete example that ex...</td>\n",
       "      <td>33357804.0</td>\n",
       "      <td>1</td>\n",
       "      <td>0</td>\n",
       "      <td>None</td>\n",
       "      <td>2015-10-26 16:43:47.483000+00:00</td>\n",
       "      <td>None</td>\n",
       "      <td>2019-01-14 17:32:34.347000+00:00</td>\n",
       "      <td>NaT</td>\n",
       "      <td>None</td>\n",
       "      <td>NaN</td>\n",
       "      <td>None</td>\n",
       "      <td>3987161</td>\n",
       "      <td>None</td>\n",
       "      <td>1</td>\n",
       "      <td>0</td>\n",
       "      <td>java|containers|kubernetes</td>\n",
       "      <td>256</td>\n",
       "    </tr>\n",
       "    <tr>\n",
       "      <th>2</th>\n",
       "      <td>33354185</td>\n",
       "      <td>Pelican Error: No module named typogrify.filters</td>\n",
       "      <td>&lt;p&gt;I'm publishing a blog using Pelican and, fo...</td>\n",
       "      <td>33356285.0</td>\n",
       "      <td>1</td>\n",
       "      <td>0</td>\n",
       "      <td>None</td>\n",
       "      <td>2015-10-26 19:39:06.417000+00:00</td>\n",
       "      <td>None</td>\n",
       "      <td>2015-10-26 21:51:11.813000+00:00</td>\n",
       "      <td>NaT</td>\n",
       "      <td>None</td>\n",
       "      <td>NaN</td>\n",
       "      <td>None</td>\n",
       "      <td>1930564</td>\n",
       "      <td>None</td>\n",
       "      <td>1</td>\n",
       "      <td>0</td>\n",
       "      <td>python|pelican</td>\n",
       "      <td>256</td>\n",
       "    </tr>\n",
       "    <tr>\n",
       "      <th>3</th>\n",
       "      <td>33362029</td>\n",
       "      <td>Bitly Oauth authorization returns https://bitl...</td>\n",
       "      <td>&lt;p&gt;I'm trying to authorize the bitly App throu...</td>\n",
       "      <td>33362766.0</td>\n",
       "      <td>1</td>\n",
       "      <td>0</td>\n",
       "      <td>None</td>\n",
       "      <td>2015-10-27 07:22:57.270000+00:00</td>\n",
       "      <td>None</td>\n",
       "      <td>2015-10-27 08:19:33.897000+00:00</td>\n",
       "      <td>2015-10-27 07:28:18.480000+00:00</td>\n",
       "      <td>None</td>\n",
       "      <td>1092437.0</td>\n",
       "      <td>None</td>\n",
       "      <td>1092437</td>\n",
       "      <td>None</td>\n",
       "      <td>1</td>\n",
       "      <td>1</td>\n",
       "      <td>python|api|oauth|python-requests</td>\n",
       "      <td>256</td>\n",
       "    </tr>\n",
       "    <tr>\n",
       "      <th>4</th>\n",
       "      <td>33365872</td>\n",
       "      <td>How to create a signed url with Firebase/JWT?</td>\n",
       "      <td>&lt;p&gt;In the new version of Googles PHP-API-Cient...</td>\n",
       "      <td>NaN</td>\n",
       "      <td>0</td>\n",
       "      <td>0</td>\n",
       "      <td>None</td>\n",
       "      <td>2015-10-27 10:46:17.453000+00:00</td>\n",
       "      <td>None</td>\n",
       "      <td>2015-10-27 12:40:28.103000+00:00</td>\n",
       "      <td>2015-10-27 12:40:28.103000+00:00</td>\n",
       "      <td>None</td>\n",
       "      <td>4495081.0</td>\n",
       "      <td>None</td>\n",
       "      <td>2849119</td>\n",
       "      <td>None</td>\n",
       "      <td>1</td>\n",
       "      <td>3</td>\n",
       "      <td>google-api|google-cloud-storage|google-api-php...</td>\n",
       "      <td>256</td>\n",
       "    </tr>\n",
       "  </tbody>\n",
       "</table>\n",
       "</div>"
      ],
      "text/plain": [
       "         id                                              title  \\\n",
       "0  33347728  Symfony2 Assetic - how to set different direct...   \n",
       "1  33351110  Full example of container deployment with fabr...   \n",
       "2  33354185   Pelican Error: No module named typogrify.filters   \n",
       "3  33362029  Bitly Oauth authorization returns https://bitl...   \n",
       "4  33365872      How to create a signed url with Firebase/JWT?   \n",
       "\n",
       "                                                body  accepted_answer_id  \\\n",
       "0  <p>I'm using assetic for compiling <code>.less...          33349111.0   \n",
       "1  <p>I am looking for a complete example that ex...          33357804.0   \n",
       "2  <p>I'm publishing a blog using Pelican and, fo...          33356285.0   \n",
       "3  <p>I'm trying to authorize the bitly App throu...          33362766.0   \n",
       "4  <p>In the new version of Googles PHP-API-Cient...                 NaN   \n",
       "\n",
       "   answer_count  comment_count community_owned_date  \\\n",
       "0             1              0                 None   \n",
       "1             1              0                 None   \n",
       "2             1              0                 None   \n",
       "3             1              0                 None   \n",
       "4             0              0                 None   \n",
       "\n",
       "                     creation_date favorite_count  \\\n",
       "0 2015-10-26 14:04:13.080000+00:00           None   \n",
       "1 2015-10-26 16:43:47.483000+00:00           None   \n",
       "2 2015-10-26 19:39:06.417000+00:00           None   \n",
       "3 2015-10-27 07:22:57.270000+00:00           None   \n",
       "4 2015-10-27 10:46:17.453000+00:00           None   \n",
       "\n",
       "                last_activity_date                   last_edit_date  \\\n",
       "0 2015-10-27 08:46:06.270000+00:00                              NaT   \n",
       "1 2019-01-14 17:32:34.347000+00:00                              NaT   \n",
       "2 2015-10-26 21:51:11.813000+00:00                              NaT   \n",
       "3 2015-10-27 08:19:33.897000+00:00 2015-10-27 07:28:18.480000+00:00   \n",
       "4 2015-10-27 12:40:28.103000+00:00 2015-10-27 12:40:28.103000+00:00   \n",
       "\n",
       "  last_editor_display_name  last_editor_user_id owner_display_name  \\\n",
       "0                     None                  NaN               None   \n",
       "1                     None                  NaN               None   \n",
       "2                     None                  NaN               None   \n",
       "3                     None            1092437.0               None   \n",
       "4                     None            4495081.0               None   \n",
       "\n",
       "   owner_user_id parent_id  post_type_id  score  \\\n",
       "0         845978      None             1      2   \n",
       "1        3987161      None             1      0   \n",
       "2        1930564      None             1      0   \n",
       "3        1092437      None             1      1   \n",
       "4        2849119      None             1      3   \n",
       "\n",
       "                                                tags  view_count  \n",
       "0                                    symfony|assetic         256  \n",
       "1                         java|containers|kubernetes         256  \n",
       "2                                     python|pelican         256  \n",
       "3                   python|api|oauth|python-requests         256  \n",
       "4  google-api|google-cloud-storage|google-api-php...         256  "
      ]
     },
     "execution_count": 6,
     "metadata": {},
     "output_type": "execute_result"
    }
   ],
   "source": [
    "# Construct a reference to the \"posts_questions\" table\n",
    "questions_table_ref = dataset_ref.table(\"posts_questions\")\n",
    "\n",
    "# API request - fetch the table\n",
    "questions_table = client.get_table(questions_table_ref)\n",
    "\n",
    "# Preview the first five lines of the \"posts_questions\" table\n",
    "client.list_rows(questions_table, max_results=5).to_dataframe()"
   ]
  },
  {
   "cell_type": "markdown",
   "metadata": {
    "papermill": {
     "duration": 0.02228,
     "end_time": "2020-12-17T11:42:16.629250",
     "exception": false,
     "start_time": "2020-12-17T11:42:16.606970",
     "status": "completed"
    },
    "tags": []
   },
   "source": [
    "Are there any fields that identify what topic or technology each question is about? If so, how could you find the IDs of users who answered questions about a specific topic?\n",
    "\n",
    "Think about it, and then check the solution by running the code in the next cell."
   ]
  },
  {
   "cell_type": "code",
   "execution_count": 7,
   "metadata": {
    "execution": {
     "iopub.execute_input": "2020-12-17T11:42:16.682568Z",
     "iopub.status.busy": "2020-12-17T11:42:16.681491Z",
     "iopub.status.idle": "2020-12-17T11:42:16.688777Z",
     "shell.execute_reply": "2020-12-17T11:42:16.688082Z"
    },
    "papermill": {
     "duration": 0.03658,
     "end_time": "2020-12-17T11:42:16.688902",
     "exception": false,
     "start_time": "2020-12-17T11:42:16.652322",
     "status": "completed"
    },
    "tags": []
   },
   "outputs": [
    {
     "data": {
      "application/javascript": [
       "parent.postMessage({\"jupyterEvent\": \"custom.exercise_interaction\", \"data\": {\"interactionType\": 3, \"questionType\": 4, \"questionId\": \"2_HowToFindExperts\", \"learnToolsVersion\": \"0.3.4\", \"valueTowardsCompletion\": 0.0, \"failureMessage\": \"\", \"exceptionClass\": \"\", \"trace\": \"\", \"outcomeType\": 4}}, \"*\")"
      ],
      "text/plain": [
       "<IPython.core.display.Javascript object>"
      ]
     },
     "metadata": {},
     "output_type": "display_data"
    },
    {
     "data": {
      "text/markdown": [
       "<span style=\"color:#33cc99\">Solution:</span> \n",
       "`posts_questions` has a column called `tags` which lists the topics/technologies each question is about.\n",
       "\n",
       "`posts_answers` has a column called `parent_id` which identifies the ID of the question each answer is responding to.\n",
       "`posts_answers` also has an `owner_user_id` column which specifies the ID of the user who answered the question.\n",
       "\n",
       "You can join these two tables to:\n",
       "- determine the `tags` for each answer, and then\n",
       "- select the `owner_user_id` of the answers on the desired tag.\n",
       "\n",
       "This is exactly what you will do over the next few questions.\n"
      ],
      "text/plain": [
       "Solution: \n",
       "`posts_questions` has a column called `tags` which lists the topics/technologies each question is about.\n",
       "\n",
       "`posts_answers` has a column called `parent_id` which identifies the ID of the question each answer is responding to.\n",
       "`posts_answers` also has an `owner_user_id` column which specifies the ID of the user who answered the question.\n",
       "\n",
       "You can join these two tables to:\n",
       "- determine the `tags` for each answer, and then\n",
       "- select the `owner_user_id` of the answers on the desired tag.\n",
       "\n",
       "This is exactly what you will do over the next few questions."
      ]
     },
     "metadata": {},
     "output_type": "display_data"
    }
   ],
   "source": [
    "# Check your answer (Run this code cell to receive credit!)\n",
    "q_2.solution()"
   ]
  },
  {
   "cell_type": "markdown",
   "metadata": {
    "papermill": {
     "duration": 0.026374,
     "end_time": "2020-12-17T11:42:16.740038",
     "exception": false,
     "start_time": "2020-12-17T11:42:16.713664",
     "status": "completed"
    },
    "tags": []
   },
   "source": [
    "### 3) Selecting the right questions\n",
    "\n",
    "A lot of this data is text. \n",
    "\n",
    "We'll explore one last technique in this course which you can apply to this text.\n",
    "\n",
    "A **WHERE** clause can limit your results to rows with certain text using the **LIKE** feature. For example, to select just the third row of the `pets` table from the tutorial, we could use the query in the picture below.\n",
    "\n",
    "![](https://i.imgur.com/RccsXBr.png) \n",
    "\n",
    "You can also use `%` as a \"wildcard\" for any number of characters. So you can also get the third row with:\n",
    "\n",
    "```\n",
    "query = \"\"\"\n",
    "        SELECT * \n",
    "        FROM `bigquery-public-data.pet_records.pets` \n",
    "        WHERE Name LIKE '%ipl%'\n",
    "        \"\"\"\n",
    "```\n",
    "\n",
    "Try this yourself. Write a query that selects the `id`, `title` and `owner_user_id` columns from the `posts_questions` table. \n",
    "- Restrict the results to rows that contain the word \"bigquery\" in the `tags` column. \n",
    "- Include rows where there is other text in addition to the word \"bigquery\" (e.g., if a row has a tag \"bigquery-sql\", your results should include that too)."
   ]
  },
  {
   "cell_type": "code",
   "execution_count": 8,
   "metadata": {
    "execution": {
     "iopub.execute_input": "2020-12-17T11:42:16.798563Z",
     "iopub.status.busy": "2020-12-17T11:42:16.797815Z",
     "iopub.status.idle": "2020-12-17T11:42:21.691001Z",
     "shell.execute_reply": "2020-12-17T11:42:21.691572Z"
    },
    "papermill": {
     "duration": 4.927085,
     "end_time": "2020-12-17T11:42:21.691752",
     "exception": false,
     "start_time": "2020-12-17T11:42:16.764667",
     "status": "completed"
    },
    "tags": []
   },
   "outputs": [
    {
     "name": "stdout",
     "output_type": "stream",
     "text": [
      "         id                                              title  owner_user_id\n",
      "0  64870863  I want to save spark JavaRDD data to bigquery ...      3020641.0\n",
      "1  65163522  How can I translate an ENUM from my Avro schem...      2299087.0\n",
      "2  64869110  How to see all shared queries in the \"Project ...     14646421.0\n",
      "3  64964489  PybigQuery: Slice a query beyond certain bytes...      8176451.0\n",
      "4  65149611  Update specific BQ partition or data range wit...     13157288.0\n"
     ]
    },
    {
     "data": {
      "application/javascript": [
       "parent.postMessage({\"jupyterEvent\": \"custom.exercise_interaction\", \"data\": {\"outcomeType\": 1, \"valueTowardsCompletion\": 0.16666666666666666, \"interactionType\": 1, \"questionType\": 2, \"questionId\": \"3_SelectRightQuestions\", \"learnToolsVersion\": \"0.3.4\", \"failureMessage\": \"\", \"exceptionClass\": \"\", \"trace\": \"\"}}, \"*\")"
      ],
      "text/plain": [
       "<IPython.core.display.Javascript object>"
      ]
     },
     "metadata": {},
     "output_type": "display_data"
    },
    {
     "data": {
      "text/markdown": [
       "<span style=\"color:#33cc33\">Correct</span>"
      ],
      "text/plain": [
       "Correct"
      ]
     },
     "metadata": {},
     "output_type": "display_data"
    }
   ],
   "source": [
    "# Your code here\n",
    "questions_query = \"\"\"\n",
    "                  SELECT id, title, owner_user_id\n",
    "                  FROM `bigquery-public-data.stackoverflow.posts_questions`\n",
    "                  WHERE tags LIKE '%bigquery%'\n",
    "                  \"\"\"\n",
    "\n",
    "# Set up the query (cancel the query if it would use too much of \n",
    "# your quota, with the limit set to 1 GB)\n",
    "safe_config = bigquery.QueryJobConfig(maximum_bytes_billed=10**10)\n",
    "questions_query_job = client.query(questions_query, job_config= safe_config)# Your code goes here\n",
    "\n",
    "# API request - run the query, and return a pandas DataFrame\n",
    "questions_results = questions_query_job.to_dataframe() # Your code goes here\n",
    "\n",
    "# Preview results\n",
    "print(questions_results.head())\n",
    "\n",
    "# Check your answer\n",
    "q_3.check()"
   ]
  },
  {
   "cell_type": "markdown",
   "metadata": {
    "papermill": {
     "duration": 0.026496,
     "end_time": "2020-12-17T11:42:21.744478",
     "exception": false,
     "start_time": "2020-12-17T11:42:21.717982",
     "status": "completed"
    },
    "tags": []
   },
   "source": [
    "For a hint or the solution, uncomment the appropriate line below."
   ]
  },
  {
   "cell_type": "code",
   "execution_count": 9,
   "metadata": {
    "execution": {
     "iopub.execute_input": "2020-12-17T11:42:21.802045Z",
     "iopub.status.busy": "2020-12-17T11:42:21.801186Z",
     "iopub.status.idle": "2020-12-17T11:42:21.804454Z",
     "shell.execute_reply": "2020-12-17T11:42:21.803904Z"
    },
    "papermill": {
     "duration": 0.03381,
     "end_time": "2020-12-17T11:42:21.804594",
     "exception": false,
     "start_time": "2020-12-17T11:42:21.770784",
     "status": "completed"
    },
    "tags": []
   },
   "outputs": [],
   "source": [
    "#q_3.hint()\n",
    "#q_3.solution()"
   ]
  },
  {
   "cell_type": "markdown",
   "metadata": {
    "papermill": {
     "duration": 0.0255,
     "end_time": "2020-12-17T11:42:21.856178",
     "exception": false,
     "start_time": "2020-12-17T11:42:21.830678",
     "status": "completed"
    },
    "tags": []
   },
   "source": [
    "### 4) Your first join\n",
    "Now that you have a query to select questions on any given topic (in this case, you chose \"bigquery\"), you can find the answers to those questions with a **JOIN**.  \n",
    "\n",
    "Write a query that returns the `id`, `body` and `owner_user_id` columns from the `posts_answers` table for answers to \"bigquery\"-related questions. \n",
    "- You should have one row in your results for each answer to a question that has \"bigquery\" in the tags.  \n",
    "- Remember you can get the tags for a question from the `tags` column in the `posts_questions` table.\n",
    "\n",
    "Here's a reminder of what a **JOIN** looked like in the tutorial:\n",
    "```\n",
    "query = \"\"\"\n",
    "        SELECT p.Name AS Pet_Name, o.Name AS Owner_Name\n",
    "        FROM `bigquery-public-data.pet_records.pets` as p\n",
    "        INNER JOIN `bigquery-public-data.pet_records.owners` as o \n",
    "            ON p.ID = o.Pet_ID\n",
    "        \"\"\"\n",
    "```\n",
    "\n",
    "It may be useful to scroll up and review the first several rows of the `posts_answers` and `posts_questions` tables.  "
   ]
  },
  {
   "cell_type": "code",
   "execution_count": 10,
   "metadata": {
    "execution": {
     "iopub.execute_input": "2020-12-17T11:42:21.921600Z",
     "iopub.status.busy": "2020-12-17T11:42:21.920844Z",
     "iopub.status.idle": "2020-12-17T11:42:32.278276Z",
     "shell.execute_reply": "2020-12-17T11:42:32.278791Z"
    },
    "papermill": {
     "duration": 10.394169,
     "end_time": "2020-12-17T11:42:32.278971",
     "exception": false,
     "start_time": "2020-12-17T11:42:21.884802",
     "status": "completed"
    },
    "tags": []
   },
   "outputs": [
    {
     "name": "stdout",
     "output_type": "stream",
     "text": [
      "         id                                               body  owner_user_id\n",
      "0  61590922  <p>Bytes processed is measured when the storag...     11467145.0\n",
      "1  61596499  <p>Your query doesn't have a variable in it- i...      2259934.0\n",
      "2  61612783  <pre><code>DATE_ADD( CURRENT_DATE(), INTERVAL ...     11617785.0\n",
      "3  61615518  <p>Due to dependency updates in version 0.15.x...        82804.0\n",
      "4  61624039  <p>This can be done using stackdriver audit lo...      5851276.0\n"
     ]
    },
    {
     "data": {
      "application/javascript": [
       "parent.postMessage({\"jupyterEvent\": \"custom.exercise_interaction\", \"data\": {\"outcomeType\": 1, \"valueTowardsCompletion\": 0.16666666666666666, \"interactionType\": 1, \"questionType\": 2, \"questionId\": \"4_FirstJoin\", \"learnToolsVersion\": \"0.3.4\", \"failureMessage\": \"\", \"exceptionClass\": \"\", \"trace\": \"\"}}, \"*\")"
      ],
      "text/plain": [
       "<IPython.core.display.Javascript object>"
      ]
     },
     "metadata": {},
     "output_type": "display_data"
    },
    {
     "data": {
      "text/markdown": [
       "<span style=\"color:#33cc33\">Correct</span>"
      ],
      "text/plain": [
       "Correct"
      ]
     },
     "metadata": {},
     "output_type": "display_data"
    }
   ],
   "source": [
    "# Your code here\n",
    "answers_query = \"\"\"\n",
    "                SELECT a.id, a.body, a.owner_user_id\n",
    "                FROM `bigquery-public-data.stackoverflow.posts_questions` AS q \n",
    "                INNER JOIN `bigquery-public-data.stackoverflow.posts_answers` AS a\n",
    "                    ON q.id = a.parent_id\n",
    "                WHERE q.tags LIKE '%bigquery%'\n",
    "                \"\"\"\n",
    "# Set up the query\n",
    "safe_config = bigquery.QueryJobConfig(maximum_bytes_billed=10**10)\n",
    "answers_query_job = client.query(answers_query, job_config= safe_config) # Your code goes here\n",
    "\n",
    "# API request - run the query, and return a pandas DataFrame\n",
    "answers_results = answers_query_job.to_dataframe() # Your code goes here\n",
    "\n",
    "# Preview results\n",
    "print(answers_results.head())\n",
    "\n",
    "# Check your answer\n",
    "q_4.check()"
   ]
  },
  {
   "cell_type": "markdown",
   "metadata": {
    "papermill": {
     "duration": 0.026543,
     "end_time": "2020-12-17T11:42:32.332927",
     "exception": false,
     "start_time": "2020-12-17T11:42:32.306384",
     "status": "completed"
    },
    "tags": []
   },
   "source": [
    "For a hint or the solution, uncomment the appropriate line below."
   ]
  },
  {
   "cell_type": "code",
   "execution_count": 11,
   "metadata": {
    "execution": {
     "iopub.execute_input": "2020-12-17T11:42:32.391656Z",
     "iopub.status.busy": "2020-12-17T11:42:32.390923Z",
     "iopub.status.idle": "2020-12-17T11:42:32.393250Z",
     "shell.execute_reply": "2020-12-17T11:42:32.392723Z"
    },
    "papermill": {
     "duration": 0.033672,
     "end_time": "2020-12-17T11:42:32.393398",
     "exception": false,
     "start_time": "2020-12-17T11:42:32.359726",
     "status": "completed"
    },
    "tags": []
   },
   "outputs": [],
   "source": [
    "#q_4.hint()\n",
    "#q_4.solution()"
   ]
  },
  {
   "cell_type": "markdown",
   "metadata": {
    "papermill": {
     "duration": 0.027746,
     "end_time": "2020-12-17T11:42:32.449431",
     "exception": false,
     "start_time": "2020-12-17T11:42:32.421685",
     "status": "completed"
    },
    "tags": []
   },
   "source": [
    "### 5) Answer the question\n",
    "You have the merge you need. But you want a list of users who have answered many questions... which requires more work beyond your previous result.\n",
    "\n",
    "Write a new query that has a single row for each user who answered at least one question with a tag that includes the string \"bigquery\". Your results should have two columns:\n",
    "- `user_id` - contains the `owner_user_id` column from the `posts_answers` table\n",
    "- `number_of_answers` - contains the number of answers the user has written to \"bigquery\"-related questions"
   ]
  },
  {
   "cell_type": "code",
   "execution_count": 12,
   "metadata": {
    "execution": {
     "iopub.execute_input": "2020-12-17T11:42:32.509947Z",
     "iopub.status.busy": "2020-12-17T11:42:32.509187Z",
     "iopub.status.idle": "2020-12-17T11:42:34.874522Z",
     "shell.execute_reply": "2020-12-17T11:42:34.875387Z"
    },
    "papermill": {
     "duration": 2.397047,
     "end_time": "2020-12-17T11:42:34.875623",
     "exception": false,
     "start_time": "2020-12-17T11:42:32.478576",
     "status": "completed"
    },
    "tags": []
   },
   "outputs": [
    {
     "name": "stdout",
     "output_type": "stream",
     "text": [
      "     user_id  number_of_answers\n",
      "0  5221944.0               3646\n",
      "1  1144035.0               1116\n",
      "2   132438.0                899\n",
      "3  6253347.0                736\n",
      "4  1366527.0                620\n"
     ]
    },
    {
     "data": {
      "application/javascript": [
       "parent.postMessage({\"jupyterEvent\": \"custom.exercise_interaction\", \"data\": {\"outcomeType\": 1, \"valueTowardsCompletion\": 0.16666666666666666, \"interactionType\": 1, \"questionType\": 2, \"questionId\": \"5_BigQueryExperts\", \"learnToolsVersion\": \"0.3.4\", \"failureMessage\": \"\", \"exceptionClass\": \"\", \"trace\": \"\"}}, \"*\")"
      ],
      "text/plain": [
       "<IPython.core.display.Javascript object>"
      ]
     },
     "metadata": {},
     "output_type": "display_data"
    },
    {
     "data": {
      "text/markdown": [
       "<span style=\"color:#33cc33\">Correct</span>"
      ],
      "text/plain": [
       "Correct"
      ]
     },
     "metadata": {},
     "output_type": "display_data"
    }
   ],
   "source": [
    "# Your code here\n",
    "bigquery_experts_query = \"\"\"\n",
    "                            SELECT a.owner_user_id AS user_id, COUNT(1) AS number_of_answers\n",
    "                            FROM `bigquery-public-data.stackoverflow.posts_questions` AS q \n",
    "                            INNER JOIN `bigquery-public-data.stackoverflow.posts_answers` AS a\n",
    "                                ON a.parent_id = q.id\n",
    "                            WHERE q.tags LIKE '%bigquery%'\n",
    "                            GROUP BY a.owner_user_id\n",
    "                            ORDER BY number_of_answers DESC\n",
    "                            \n",
    "                         \"\"\"\n",
    "\n",
    "# Set up the query\n",
    "safe_config = bigquery.QueryJobConfig(maximum_bytes_billed=10**10)\n",
    "bigquery_experts_query_job = client.query(bigquery_experts_query, job_config= safe_config) # Your code goes here\n",
    "\n",
    "# API request - run the query, and return a pandas DataFrame\n",
    "bigquery_experts_results = bigquery_experts_query_job.to_dataframe() # Your code goes here\n",
    "\n",
    "# Preview results\n",
    "print(bigquery_experts_results.head())\n",
    "\n",
    "# Check your answer\n",
    "q_5.check()"
   ]
  },
  {
   "cell_type": "markdown",
   "metadata": {
    "papermill": {
     "duration": 0.028203,
     "end_time": "2020-12-17T11:42:34.938557",
     "exception": false,
     "start_time": "2020-12-17T11:42:34.910354",
     "status": "completed"
    },
    "tags": []
   },
   "source": [
    "For a hint or the solution, uncomment the appropriate line below."
   ]
  },
  {
   "cell_type": "code",
   "execution_count": 13,
   "metadata": {
    "execution": {
     "iopub.execute_input": "2020-12-17T11:42:35.001169Z",
     "iopub.status.busy": "2020-12-17T11:42:35.000026Z",
     "iopub.status.idle": "2020-12-17T11:42:35.002957Z",
     "shell.execute_reply": "2020-12-17T11:42:35.003462Z"
    },
    "papermill": {
     "duration": 0.036383,
     "end_time": "2020-12-17T11:42:35.003605",
     "exception": false,
     "start_time": "2020-12-17T11:42:34.967222",
     "status": "completed"
    },
    "tags": []
   },
   "outputs": [],
   "source": [
    "#q_5.hint()\n",
    "#q_5.solution()"
   ]
  },
  {
   "cell_type": "markdown",
   "metadata": {
    "papermill": {
     "duration": 0.028715,
     "end_time": "2020-12-17T11:42:35.060837",
     "exception": false,
     "start_time": "2020-12-17T11:42:35.032122",
     "status": "completed"
    },
    "tags": []
   },
   "source": [
    "### 6) Building a more generally useful service\n",
    "\n",
    "How could you convert what you've done to a general function a website could call on the backend to get experts on any topic?  \n",
    "\n",
    "Think about it and then check the solution below."
   ]
  },
  {
   "cell_type": "code",
   "execution_count": 14,
   "metadata": {
    "execution": {
     "iopub.execute_input": "2020-12-17T11:42:35.125528Z",
     "iopub.status.busy": "2020-12-17T11:42:35.124809Z",
     "iopub.status.idle": "2020-12-17T11:42:35.130618Z",
     "shell.execute_reply": "2020-12-17T11:42:35.131130Z"
    },
    "papermill": {
     "duration": 0.038801,
     "end_time": "2020-12-17T11:42:35.131287",
     "exception": false,
     "start_time": "2020-12-17T11:42:35.092486",
     "status": "completed"
    },
    "tags": []
   },
   "outputs": [],
   "source": [
    "def find(topic, client):\n",
    "    query = \"\"\"\n",
    "           SELECT a.owner_user_id AS user_id, COUNT(1) AS num_answers\n",
    "           FROM `bigquery-public-data.stackoverflow.posts_questions` AS q\n",
    "           INNER JOIN `bigquery-public-data.stackoverflow.posts_answers` AS a\n",
    "               ON q.id = a.parent_Id\n",
    "           WHERE q.tags like '%{topic}%'\n",
    "           GROUP BY a.owner_user_id\n",
    "           \"\"\"\n",
    "    safe_config = bigquery.QueryJobConfig(maximum_bytes_billed=10**10)      \n",
    "    query_job = client.query(query, job_config=safe_config)\n",
    "\n",
    "    result = my_query_job.to_dataframe()\n",
    "\n",
    "    return result"
   ]
  },
  {
   "cell_type": "code",
   "execution_count": 15,
   "metadata": {
    "execution": {
     "iopub.execute_input": "2020-12-17T11:42:35.192370Z",
     "iopub.status.busy": "2020-12-17T11:42:35.191753Z",
     "iopub.status.idle": "2020-12-17T11:42:35.199768Z",
     "shell.execute_reply": "2020-12-17T11:42:35.199188Z"
    },
    "papermill": {
     "duration": 0.039703,
     "end_time": "2020-12-17T11:42:35.199878",
     "exception": false,
     "start_time": "2020-12-17T11:42:35.160175",
     "status": "completed"
    },
    "tags": []
   },
   "outputs": [
    {
     "data": {
      "application/javascript": [
       "parent.postMessage({\"jupyterEvent\": \"custom.exercise_interaction\", \"data\": {\"interactionType\": 3, \"questionType\": 4, \"questionId\": \"6_GeneralizeExpertFinder\", \"learnToolsVersion\": \"0.3.4\", \"valueTowardsCompletion\": 0.0, \"failureMessage\": \"\", \"exceptionClass\": \"\", \"trace\": \"\", \"outcomeType\": 4}}, \"*\")"
      ],
      "text/plain": [
       "<IPython.core.display.Javascript object>"
      ]
     },
     "metadata": {},
     "output_type": "display_data"
    },
    {
     "data": {
      "text/markdown": [
       "<span style=\"color:#33cc99\">Solution:</span> \n",
       "```python\n",
       "\n",
       "def expert_finder(topic, client):\n",
       "    '''\n",
       "    Returns a DataFrame with the user IDs who have written Stack Overflow answers on a topic.\n",
       "\n",
       "    Inputs:\n",
       "        topic: A string with the topic of interest\n",
       "        client: A Client object that specifies the connection to the Stack Overflow dataset\n",
       "\n",
       "    Outputs:\n",
       "        results: A DataFrame with columns for user_id and number_of_answers. Follows similar logic to bigquery_experts_results shown above.\n",
       "    '''\n",
       "    my_query = \"\"\"\n",
       "               SELECT a.owner_user_id AS user_id, COUNT(1) AS number_of_answers\n",
       "               FROM `bigquery-public-data.stackoverflow.posts_questions` AS q\n",
       "               INNER JOIN `bigquery-public-data.stackoverflow.posts_answers` AS a\n",
       "                   ON q.id = a.parent_Id\n",
       "               WHERE q.tags like '%{topic}%'\n",
       "               GROUP BY a.owner_user_id\n",
       "               \"\"\"\n",
       "               \n",
       "    # Set up the query (a real service would have good error handling for \n",
       "    # queries that scan too much data)\n",
       "    safe_config = bigquery.QueryJobConfig(maximum_bytes_billed=10**10)      \n",
       "    my_query_job = client.query(my_query, job_config=safe_config)\n",
       "    \n",
       "    # API request - run the query, and return a pandas DataFrame\n",
       "    results = my_query_job.to_dataframe()\n",
       "\n",
       "    return results\n",
       "\n",
       "```"
      ],
      "text/plain": [
       "Solution: \n",
       "```python\n",
       "\n",
       "def expert_finder(topic, client):\n",
       "    '''\n",
       "    Returns a DataFrame with the user IDs who have written Stack Overflow answers on a topic.\n",
       "\n",
       "    Inputs:\n",
       "        topic: A string with the topic of interest\n",
       "        client: A Client object that specifies the connection to the Stack Overflow dataset\n",
       "\n",
       "    Outputs:\n",
       "        results: A DataFrame with columns for user_id and number_of_answers. Follows similar logic to bigquery_experts_results shown above.\n",
       "    '''\n",
       "    my_query = \"\"\"\n",
       "               SELECT a.owner_user_id AS user_id, COUNT(1) AS number_of_answers\n",
       "               FROM `bigquery-public-data.stackoverflow.posts_questions` AS q\n",
       "               INNER JOIN `bigquery-public-data.stackoverflow.posts_answers` AS a\n",
       "                   ON q.id = a.parent_Id\n",
       "               WHERE q.tags like '%{topic}%'\n",
       "               GROUP BY a.owner_user_id\n",
       "               \"\"\"\n",
       "               \n",
       "    # Set up the query (a real service would have good error handling for \n",
       "    # queries that scan too much data)\n",
       "    safe_config = bigquery.QueryJobConfig(maximum_bytes_billed=10**10)      \n",
       "    my_query_job = client.query(my_query, job_config=safe_config)\n",
       "    \n",
       "    # API request - run the query, and return a pandas DataFrame\n",
       "    results = my_query_job.to_dataframe()\n",
       "\n",
       "    return results\n",
       "\n",
       "```"
      ]
     },
     "metadata": {},
     "output_type": "display_data"
    }
   ],
   "source": [
    "# Check your answer (Run this code cell to receive credit!)\n",
    "q_6.solution()"
   ]
  },
  {
   "cell_type": "markdown",
   "metadata": {
    "papermill": {
     "duration": 0.03041,
     "end_time": "2020-12-17T11:42:35.260166",
     "exception": false,
     "start_time": "2020-12-17T11:42:35.229756",
     "status": "completed"
    },
    "tags": []
   },
   "source": [
    "# Congratulations!\n",
    "\n",
    "You know all the key components to use BigQuery and SQL effectively. Your SQL skills are sufficient to unlock many of the world's largest datasets.\n",
    "\n",
    "Want to go play with your new powers?  Kaggle has BigQuery datasets available [here](https://www.kaggle.com/datasets?fileType=bigQuery)."
   ]
  },
  {
   "cell_type": "markdown",
   "metadata": {
    "papermill": {
     "duration": 0.029703,
     "end_time": "2020-12-17T11:42:35.320173",
     "exception": false,
     "start_time": "2020-12-17T11:42:35.290470",
     "status": "completed"
    },
    "tags": []
   },
   "source": [
    "---\n",
    "\n",
    "\n",
    "\n",
    "\n",
    "*Have questions or comments? Visit the [Learn Discussion forum](https://www.kaggle.com/learn-forum/161314) to chat with other Learners.*"
   ]
  }
 ],
 "metadata": {
  "kernelspec": {
   "display_name": "Python 3",
   "language": "python",
   "name": "python3"
  },
  "language_info": {
   "codemirror_mode": {
    "name": "ipython",
    "version": 3
   },
   "file_extension": ".py",
   "mimetype": "text/x-python",
   "name": "python",
   "nbconvert_exporter": "python",
   "pygments_lexer": "ipython3",
   "version": "3.7.6"
  },
  "papermill": {
   "duration": 45.258295,
   "end_time": "2020-12-17T11:42:35.458887",
   "environment_variables": {},
   "exception": null,
   "input_path": "__notebook__.ipynb",
   "output_path": "__notebook__.ipynb",
   "parameters": {},
   "start_time": "2020-12-17T11:41:50.200592",
   "version": "2.1.0"
  }
 },
 "nbformat": 4,
 "nbformat_minor": 4
}
